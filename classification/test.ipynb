{
 "metadata": {
  "language_info": {
   "codemirror_mode": {
    "name": "ipython",
    "version": 3
   },
   "file_extension": ".py",
   "mimetype": "text/x-python",
   "name": "python",
   "nbconvert_exporter": "python",
   "pygments_lexer": "ipython3",
   "version": "3.8.5"
  },
  "orig_nbformat": 2,
  "kernelspec": {
   "name": "python385jvsc74a57bd0f6b225498c21f0cd3556cd843326406d11a9a5bbe1feb508edff4debf2644088",
   "display_name": "Python 3.8.5 64-bit ('tor': conda)"
  },
  "metadata": {
   "interpreter": {
    "hash": "f6b225498c21f0cd3556cd843326406d11a9a5bbe1feb508edff4debf2644088"
   }
  }
 },
 "nbformat": 4,
 "nbformat_minor": 2,
 "cells": [
  {
   "cell_type": "code",
   "execution_count": 20,
   "metadata": {},
   "outputs": [],
   "source": [
    "import numpy as np\n",
    "import cv2 as cv\n",
    "import xml.etree.ElementTree as ET\n",
    "import matplotlib.pyplot as plt\n",
    "from scipy.spatial.kdtree import KDTree\n",
    "\n",
    "\n",
    "def parse_xml(xml_path):\n",
    "    \"\"\"parse xml file and calculate center point of each bounding box\n",
    "\n",
    "    Args:\n",
    "        xml_path (str): path of xml file\n",
    "\n",
    "    Returns:\n",
    "        str: dict variable includes center points and id of the bounding box\n",
    "    \"\"\"\n",
    "    box_dict={}\n",
    "    tree = ET.parse(xml_path)\n",
    "    for obj in tree.findall(\"object\"):\n",
    "        cls = \"tuft\"\n",
    "        # We include \"difficult\" samples in training.\n",
    "        # Based on limited experiments, they don't hurt accuracy.\n",
    "        # difficult = int(obj.find(\"difficult\").text)\n",
    "        # if difficult == 1:\n",
    "        # continue\n",
    "\n",
    "        bbox = obj.find(\"bndbox\")\n",
    "        bbox = [float(bbox.find(x).text) for x in [\"xmin\", \"ymin\", \"xmax\", \"ymax\"]]\n",
    "        center_point=[(bbox[0]+bbox[2])/2,(bbox[1]+bbox[3])/2] # x, y\n",
    "        box_dict.setdefault(obj.find(\"name\").text, center_point)\n",
    "\n",
    "    return box_dict\n",
    "\n",
    "\n",
    "dataset=\"/media/ck/B6DAFDC2DAFD7F45/program/pyTuft/tiny-instance-segmentation/dataset/JPEGImages/\"\n",
    "refer_dir=\"/media/ck/B6DAFDC2DAFD7F45/program/pyTuft/2019/\"\n",
    "annotation_dir=\"/media/ck/B6DAFDC2DAFD7F45/program/pyTuft/tiny-instance-segmentation/dataset/Annotations/\"\n",
    "\n",
    "img1 = cv.imread(dataset+'DSC_2410.JPG',cv.IMREAD_GRAYSCALE)          # queryImage\n",
    "img2 = cv.imread(dataset+'DSC_2411.JPG',cv.IMREAD_GRAYSCALE)          # trainImage\n",
    "xml1=parse_xml(annotation_dir+'DSC_2410.xml')  # image1 bounding box\n",
    "xml2=parse_xml(annotation_dir+'DSC_2411.xml')  # image2 bounding box\n",
    "\n",
    "# Initiate SIFT detector\n",
    "sift = cv.SIFT_create()\n",
    "# find the keypoints and descriptors with SIFT\n",
    "kp1, des1 = sift.detectAndCompute(img1,None)\n",
    "kp2, des2 = sift.detectAndCompute(img2,None)\n",
    "# FLANN parameters\n",
    "FLANN_INDEX_KDTREE = 1\n",
    "index_params = dict(algorithm = FLANN_INDEX_KDTREE, trees = 5)\n",
    "search_params = dict(checks=50)   # or pass empty dictionary\n",
    "flann = cv.FlannBasedMatcher(index_params,search_params)\n",
    "matches = flann.knnMatch(des1,des2,k=2)  #query, train, return 2 matches\n",
    "# Need to draw only good matches, so create a mask\n",
    "matchesMask = [[0,0] for i in range(len(matches))]\n",
    "# matched points list\n",
    "pt1_list=[] # in img1\n",
    "pt2_list=[] # in img2"
   ]
  },
  {
   "cell_type": "code",
   "execution_count": 21,
   "metadata": {},
   "outputs": [],
   "source": [
    "# ratio test as per Lowe's paper\n",
    "for i,(m,n) in enumerate(matches): # m: best match, n: second match\n",
    "    if m.distance < 0.7*n.distance:\n",
    "        matchesMask[i]=[1,0]\n",
    "        pt1_list.append(list(kp1[m.queryIdx].pt))\n",
    "        pt2_list.append(list(kp2[m.trainIdx].pt))"
   ]
  },
  {
   "cell_type": "code",
   "execution_count": 23,
   "metadata": {},
   "outputs": [
    {
     "output_type": "stream",
     "name": "stdout",
     "text": [
      "291 291\n"
     ]
    }
   ],
   "source": [
    "print(len(pt1_list),len(pt2_list))"
   ]
  },
  {
   "cell_type": "code",
   "execution_count": 27,
   "metadata": {},
   "outputs": [],
   "source": [
    "pt1_array=np.array(pt1_list)\n",
    "pt2_array=np.array(pt2_list)\n",
    "tree1=KDTree(pt1_array)\n",
    "\n",
    "xml2_array=np.array(list(xml2.values()))\n",
    "tree2=KDTree(xml2_array)  # box tree\n",
    "\n",
    "keys2=list(xml2.keys())"
   ]
  },
  {
   "cell_type": "code",
   "execution_count": 29,
   "metadata": {},
   "outputs": [
    {
     "output_type": "stream",
     "name": "stdout",
     "text": [
      "F4->F4\nF1->F1\nF2->F2\nF3->F3\nF5->F5\nG1->G1\nG2->F5\nG3->G1\nG4->G4\nA5->A5\nA1->A1\nA2->A2\nA3->A3\nA4->A4\nA6->A6\nA7->A7\nA8->A8\nA9->A9\nA10->A10\nA11->A11\nA12->A12\nA13->A13\nA14->G4\nA15->A15\n"
     ]
    }
   ],
   "source": [
    "for key in xml1:\n",
    "    dist1, ind=tree1.query(xml1[key],k=1) #find the closest matching point\n",
    "    dist2, ind2=tree2.query(pt2_array[ind],k=1) #find the closest bounding box\n",
    "    print(\"{}->{}\".format(key,keys2[ind2]))"
   ]
  }
 ]
}